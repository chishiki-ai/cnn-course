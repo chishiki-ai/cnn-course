{
 "cells": [
  {
   "cell_type": "markdown",
   "id": "divided-endorsement",
   "metadata": {},
   "source": [
    "## Distributed PyTorch Training\n",
    "### Downloading dataset\n",
    "We first need to get our data set "
   ]
  },
  {
   "cell_type": "code",
   "execution_count": null,
   "id": "chinese-scottish",
   "metadata": {},
   "outputs": [],
   "source": [
    "! cp -r /scratch1/07980/sli4/training/cnn_course/data/data.tar.gz /tmp/\n",
    "! tar zxf /tmp/data.tar.gz -C /tmp\n",
    "! ls /tmp/Dataset_2\n",
    "! rm /tmp/data.tar.gz"
   ]
  },
  {
   "cell_type": "markdown",
   "id": "abstract-liquid",
   "metadata": {},
   "source": [
    "### Training with PyTorch on 1 node with 4 GPUs\n",
    "Use torchrun launcher to launch the training script. Set nproc_per_node to number of GPUs per node."
   ]
  },
  {
   "cell_type": "code",
   "execution_count": 2,
   "id": "present-syndrome",
   "metadata": {},
   "outputs": [
    {
     "name": "stdout",
     "output_type": "stream",
     "text": [
      "Train set size: 1322, Validation set size: 363\n",
      "\n",
      "(Epoch 1/5) Time: 40s\n",
      "(Epoch 1/5) Average train loss: 0.056922437228036644, Average train accuracy: 0.5925325155258179\n",
      "(Epoch 1/5) Val loss: 0.05078743025660515, Val accuracy: 0.6941288709640503\n",
      "(Epoch 1/5) Current best val acc: 0.7761857509613037\n",
      "\n",
      "\n",
      "(Epoch 2/5) Time: 41s\n",
      "(Epoch 2/5) Average train loss: 0.04271861730199872, Average train accuracy: 0.7654221057891846\n",
      "(Epoch 2/5) Val loss: 0.047977641224861145, Val accuracy: 0.7102272510528564\n",
      "(Epoch 2/5) Current best val acc: 0.7761857509613037\n",
      "\n",
      "\n",
      "(Epoch 3/5) Time: 42s\n",
      "(Epoch 3/5) Average train loss: 0.034814325681367476, Average train accuracy: 0.85308438539505\n",
      "(Epoch 3/5) Val loss: 0.05882187932729721, Val accuracy: 0.6903409361839294\n",
      "(Epoch 3/5) Current best val acc: 0.7761857509613037\n",
      "\n",
      "\n",
      "(Epoch 4/5) Time: 41s\n",
      "(Epoch 4/5) Average train loss: 0.0298111652108756, Average train accuracy: 0.9139610528945923\n",
      "(Epoch 4/5) Val loss: 0.0464935228228569, Val accuracy: 0.7462121844291687\n",
      "(Epoch 4/5) Current best val acc: 0.7761857509613037\n",
      "\n",
      "\n",
      "(Epoch 5/5) Time: 40s\n",
      "(Epoch 5/5) Average train loss: 0.02572637114238429, Average train accuracy: 0.9434524178504944\n",
      "(Epoch 5/5) Val loss: 0.046164270490407944, Val accuracy: 0.751893937587738\n",
      "(Epoch 5/5) Current best val acc: 0.7761857509613037\n",
      "\n",
      "\n",
      "Best model (val loss: 0.048471879214048386, val accuracy: 0.751893937587738) has been saved to /home1/07980/sli4/cnn-course-private/output_model/best_model.pt\n",
      "\n",
      "Cleaning up the distributed environment...\n",
      "Distributed environment has been properly closed\n"
     ]
    }
   ],
   "source": [
    "! torchrun --nproc_per_node 4 torch_train_distributed.py"
   ]
  },
  {
   "cell_type": "markdown",
   "id": "brilliant-porcelain",
   "metadata": {},
   "source": [
    "### Train on Multiple Nodes\n",
    "\n",
    "To train on multiple nodes, we need to first copy data to every node."
   ]
  },
  {
   "cell_type": "code",
   "execution_count": 1,
   "id": "rural-disco",
   "metadata": {},
   "outputs": [
    {
     "name": "stdout",
     "output_type": "stream",
     "text": [
      "Command: cp -r /scratch1/07980/sli4/training/cnn_course/data/data.tar.gz /tmp ; tar zxf /tmp/data.tar.gz -C /tmp; ls /tmp/Dataset_2; rm /tmp/data.tar.gz; \n",
      "Launching rank 0 on local node c196-012\n",
      "Launching rank 1 on remote node c196-032\n",
      "Train\n",
      "Validation\n",
      "Train  Validation\n"
     ]
    }
   ],
   "source": [
    "! copy_data.sh /scratch1/07980/sli4/training/cnn_course/data/data.tar.gz /tmp"
   ]
  },
  {
   "cell_type": "markdown",
   "id": "static-bridges",
   "metadata": {},
   "source": [
    "## Launch training script in Python virtual environment"
   ]
  },
  {
   "cell_type": "code",
   "execution_count": 3,
   "id": "israeli-evanescence",
   "metadata": {},
   "outputs": [
    {
     "name": "stdout",
     "output_type": "stream",
     "text": [
      "module reset;module load gcc/9.1.0 python3/3.9.2;source /scratch1/07980/sli4/training/cnn_course/bin/activate;export OMP_NUM_THREADS=8; python -m torch.distributed.launch --nnodes=2 --nproc_per_node=4 --node_rank=0 --master_addr=c196-012 --max_restarts=0 torch_train_distributed.py\n",
      "module reset;module load gcc/9.1.0 python3/3.9.2;source /scratch1/07980/sli4/training/cnn_course/bin/activate;export OMP_NUM_THREADS=8; python -m torch.distributed.launch --nnodes=2 --nproc_per_node=4 --node_rank=1 --master_addr=c196-012 --max_restarts=0 torch_train_distributed.py\n",
      "Running \"module reset\". Resetting modules to system default. The following $MODULEPATH directories have been removed: None\n",
      "Running \"module reset\". Resetting modules to system default. The following $MODULEPATH directories have been removed: None\n",
      "\n",
      "Due to MODULEPATH changes, the following have been reloaded:\n",
      "  1) impi/19.0.9\n",
      "\n",
      "The following have been reloaded with a version change:\n",
      "  1) python3/3.9.2 => python3/3.7.0\n",
      "\n",
      "\n",
      "Due to MODULEPATH changes, the following have been reloaded:\n",
      "  1) impi/19.0.9\n",
      "\n",
      "The following have been reloaded with a version change:\n",
      "  1) python3/3.9.2 => python3/3.7.0\n",
      "\n",
      "\n",
      "Lmod is automatically replacing \"intel/19.1.1\" with \"gcc/9.1.0\".\n",
      "\n",
      "\n",
      "Lmod is automatically replacing \"intel/19.1.1\" with \"gcc/9.1.0\".\n",
      "\n",
      "\n",
      "Due to MODULEPATH changes, the following have been reloaded:\n",
      "  1) impi/19.0.9\n",
      "\n",
      "The following have been reloaded with a version change:\n",
      "  1) python3/3.7.0 => python3/3.9.2\n",
      "\n",
      "\n",
      "Due to MODULEPATH changes, the following have been reloaded:\n",
      "  1) impi/19.0.9\n",
      "\n",
      "The following have been reloaded with a version change:\n",
      "  1) python3/3.7.0 => python3/3.9.2\n",
      "\n",
      "/scratch1/07980/sli4/training/cnn_course/lib/python3.9/site-packages/torch/distributed/launch.py:181: FutureWarning: The module torch.distributed.launch is deprecated\n",
      "and will be removed in future. Use torchrun.\n",
      "Note that --use-env is set by default in torchrun.\n",
      "If your script expects `--local-rank` argument to be set, please\n",
      "change it to read from `os.environ['LOCAL_RANK']` instead. See \n",
      "https://pytorch.org/docs/stable/distributed.html#launch-utility for \n",
      "further instructions\n",
      "\n",
      "  warnings.warn(\n",
      "/scratch1/07980/sli4/training/cnn_course/lib/python3.9/site-packages/torch/distributed/launch.py:181: FutureWarning: The module torch.distributed.launch is deprecated\n",
      "and will be removed in future. Use torchrun.\n",
      "Note that --use-env is set by default in torchrun.\n",
      "If your script expects `--local-rank` argument to be set, please\n",
      "change it to read from `os.environ['LOCAL_RANK']` instead. See \n",
      "https://pytorch.org/docs/stable/distributed.html#launch-utility for \n",
      "further instructions\n",
      "\n",
      "  warnings.warn(\n",
      "Train set size: 1322, Validation set size: 363\n",
      "\n",
      "(Epoch 1/5) Time: 25s\n",
      "(Epoch 1/5) Average train loss: 0.06479571308150435, Average train accuracy: 0.5738636255264282\n",
      "(Epoch 1/5) Val loss: 0.052479784935712814, Val accuracy: 0.6309524178504944\n",
      "(Epoch 1/5) Current best val acc: 0.8065476417541504\n",
      "\n",
      "\n",
      "(Epoch 2/5) Time: 25s\n",
      "(Epoch 2/5) Average train loss: 0.05446313615098144, Average train accuracy: 0.7367424964904785\n",
      "(Epoch 2/5) Val loss: 0.05210840329527855, Val accuracy: 0.7321428656578064\n",
      "(Epoch 2/5) Current best val acc: 0.8065476417541504\n",
      "\n",
      "\n",
      "(Epoch 3/5) Time: 25s\n",
      "(Epoch 3/5) Average train loss: 0.04741993162668112, Average train accuracy: 0.7859848141670227\n",
      "(Epoch 3/5) Val loss: 0.048115506768226624, Val accuracy: 0.7202381491661072\n",
      "(Epoch 3/5) Current best val acc: 0.8065476417541504\n",
      "\n",
      "\n",
      "(Epoch 4/5) Time: 25s\n",
      "(Epoch 4/5) Average train loss: 0.03935777113744707, Average train accuracy: 0.876893937587738\n",
      "(Epoch 4/5) Val loss: 0.05139197036623955, Val accuracy: 0.6904761791229248\n",
      "(Epoch 4/5) Current best val acc: 0.8065476417541504\n",
      "\n",
      "\n",
      "(Epoch 5/5) Time: 24s\n",
      "(Epoch 5/5) Average train loss: 0.03059660502229676, Average train accuracy: 0.9337121248245239\n",
      "(Epoch 5/5) Val loss: 0.042686380445957184, Val accuracy: 0.7410714626312256\n",
      "(Epoch 5/5) Current best val acc: 0.8065476417541504\n",
      "\n",
      "\n",
      "Best model (val loss: 0.04061087220907211, val accuracy: 0.8065476417541504) has been saved to /home1/07980/sli4/cnn-course-private/output_model/best_model.pt\n",
      "\n",
      "Cleaning up the distributed environment...\n",
      "Distributed environment has been properly closed\n"
     ]
    }
   ],
   "source": [
    "! mpirun -np 2 -ppn 1 torch_train_distributed_venv.sh "
   ]
  },
  {
   "cell_type": "markdown",
   "id": "noble-pottery",
   "metadata": {},
   "source": [
    "## Launch training script in containerized environment"
   ]
  },
  {
   "cell_type": "code",
   "execution_count": 4,
   "id": "mechanical-sullivan",
   "metadata": {},
   "outputs": [
    {
     "name": "stdout",
     "output_type": "stream",
     "text": [
      "Training command: /opt/apps/tacc-apptainer/1.1.8/bin/apptainer exec --nv --bind /run/user:/run/user /scratch1/07980/sli4/containers/cnn_course.sif  torchrun --nproc_per_node 4 --nnodes 2 --node_rank=1 --master_addr=c196-012 --master_port=1234 torch_train_distributed.py \n",
      "Training command: /opt/apps/tacc-apptainer/1.1.8/bin/apptainer exec --nv --bind /run/user:/run/user /scratch1/07980/sli4/containers/cnn_course.sif  torchrun --nproc_per_node 4 --nnodes 2 --node_rank=0 --master_addr=c196-012 --master_port=1234 torch_train_distributed.py \n",
      "13:4: not a valid test operator: (\n",
      "13:4: not a valid test operator: 535.113.01\n",
      "13:4: not a valid test operator: (\n",
      "13:4: not a valid test operator: 535.113.01\n",
      "/home1/07980/sli4/.bashrc: line 1: module: command not found\n",
      "/home1/07980/sli4/.bashrc: line 2: module: command not found\n",
      "/home1/07980/sli4/.bashrc: line 3: module: command not found\n",
      "Train set size: 1322, Validation set size: 363\n",
      "\n",
      "(Epoch 1/5) Time: 25s\n",
      "(Epoch 1/5) Average train loss: 0.06424533790259651, Average train accuracy: 0.6174242496490479\n",
      "(Epoch 1/5) Val loss: 0.0597037635743618, Val accuracy: 0.5833333730697632\n",
      "(Epoch 1/5) Current best val acc: 0.8065476417541504\n",
      "\n",
      "\n",
      "(Epoch 2/5) Time: 23s\n",
      "(Epoch 2/5) Average train loss: 0.05367439714345065, Average train accuracy: 0.7424243092536926\n",
      "(Epoch 2/5) Val loss: 0.05212060362100601, Val accuracy: 0.6904761791229248\n",
      "(Epoch 2/5) Current best val acc: 0.8065476417541504\n",
      "\n",
      "\n",
      "(Epoch 3/5) Time: 25s\n",
      "(Epoch 3/5) Average train loss: 0.04439571725599694, Average train accuracy: 0.8087121248245239\n",
      "(Epoch 3/5) Val loss: 0.043026119470596313, Val accuracy: 0.8065476417541504\n",
      "(Epoch 3/5) Current best val acc: 0.8065476417541504\n",
      "\n",
      "\n",
      "(Epoch 4/5) Time: 24s\n",
      "(Epoch 4/5) Average train loss: 0.0336388082553943, Average train accuracy: 0.9147727489471436\n",
      "(Epoch 4/5) Val loss: 0.04144521802663803, Val accuracy: 0.758928656578064\n",
      "(Epoch 4/5) Current best val acc: 0.8065476417541504\n",
      "\n",
      "\n",
      "(Epoch 5/5) Time: 25s\n",
      "(Epoch 5/5) Average train loss: 0.026823390726790283, Average train accuracy: 0.9772727489471436\n",
      "(Epoch 5/5) Val loss: 0.04388212412595749, Val accuracy: 0.7440476417541504\n",
      "(Epoch 5/5) Current best val acc: 0.8065476417541504\n",
      "\n",
      "\n",
      "Best model (val loss: 0.04061088711023331, val accuracy: 0.8065476417541504) has been saved to /home1/07980/sli4/cnn-course-private/output_model/best_model.pt\n",
      "\n",
      "Cleaning up the distributed environment...\n",
      "Distributed environment has been properly closed\n"
     ]
    }
   ],
   "source": [
    "! mpirun -np 2 -ppn 1 run_distributed.sh "
   ]
  },
  {
   "cell_type": "code",
   "execution_count": null,
   "id": "gorgeous-sapphire",
   "metadata": {},
   "outputs": [],
   "source": []
  }
 ],
 "metadata": {
  "kernelspec": {
   "display_name": "cnn_course",
   "language": "python",
   "name": "cnn_course"
  },
  "language_info": {
   "codemirror_mode": {
    "name": "ipython",
    "version": 3
   },
   "file_extension": ".py",
   "mimetype": "text/x-python",
   "name": "python",
   "nbconvert_exporter": "python",
   "pygments_lexer": "ipython3",
   "version": "3.9.2"
  }
 },
 "nbformat": 4,
 "nbformat_minor": 5
}
